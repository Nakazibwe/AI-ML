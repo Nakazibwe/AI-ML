{
 "cells": [
  {
   "cell_type": "code",
   "execution_count": null,
   "id": "5c2136df",
   "metadata": {},
   "outputs": [],
   "source": [
    "import pandas as pd\n",
    "from sklearn.model_selection import train_test_split\n",
    "from sklearn import ensemble\n",
    "from sklearn.metrics import mean_absolute_error\n",
    "import joblib"
   ]
  },
  {
   "cell_type": "code",
   "execution_count": null,
   "id": "bb75ac4c",
   "metadata": {},
   "outputs": [],
   "source": [
    "df = pd.read_csv('ml_house_data_set.csv')"
   ]
  },
  {
   "cell_type": "code",
   "execution_count": null,
   "id": "e9544f50",
   "metadata": {},
   "outputs": [],
   "source": [
    "#Display first five columns\n",
    "head = df.head()\n",
    "head "
   ]
  },
  {
   "cell_type": "code",
   "execution_count": null,
   "id": "685cdbfe",
   "metadata": {},
   "outputs": [],
   "source": [
    "del df['house_number']\n",
    "del df['street_name']\n",
    "del df['unit_number']"
   ]
  },
  {
   "cell_type": "code",
   "execution_count": null,
   "id": "af87cc88",
   "metadata": {},
   "outputs": [],
   "source": [
    "#Replace categorical data with one-hote encoded\n",
    "feature_df = pd.get_dummies(df, columns=['garage_type', 'has_fireplace', 'has_pool', 'has_central_heating', 'has_central_cooling', 'city'])\n",
    "\n",
    "#Remove the sale price from the feature data\n",
    "del feature_df['sale_price']\n",
    "feature_df"
   ]
  },
  {
   "cell_type": "code",
   "execution_count": null,
   "id": "285cb148",
   "metadata": {},
   "outputs": [],
   "source": [
    "#Create the X and y arrays.\n",
    "X = feature_df.to_numpy()\n",
    "y = df['sale_price'].to_numpy()"
   ]
  },
  {
   "cell_type": "code",
   "execution_count": null,
   "id": "c0030c5b",
   "metadata": {},
   "outputs": [],
   "source": [
    "#Split the data set in a training set (70%) and a test set (30%)\n",
    "X_train,X_test,y_train,y_test = train_test_split(X,y,test_size=0.3, random_state=0)"
   ]
  },
  {
   "cell_type": "code",
   "execution_count": null,
   "id": "7698d335",
   "metadata": {},
   "outputs": [],
   "source": [
    "#Fit regression model\n",
    "model = ensemble.GradientBoostingRegressor(\n",
    "    n_estimators=1000,\n",
    "    learning_rate=0.1,\n",
    "    max_depth=6,\n",
    "    min_samples_leaf=9,\n",
    "    max_features=0.1,\n",
    "    loss='huber', \n",
    "    random_state=0)\n",
    "\n",
    "model.fit(X_train, y_train)"
   ]
  },
  {
   "cell_type": "code",
   "execution_count": null,
   "id": "91b36309",
   "metadata": {},
   "outputs": [],
   "source": [
    "#Save the trained model to a file so we can use it in other programs\n",
    "joblib.dump(model,'house_classifier.pkl')"
   ]
  },
  {
   "cell_type": "code",
   "execution_count": null,
   "id": "51b4c49e",
   "metadata": {},
   "outputs": [],
   "source": [
    "#Find the error rate on the training set\n",
    "mse = mean_absolute_error(y_train, model.predict(X_train))\n",
    "print(mse)"
   ]
  },
  {
   "cell_type": "code",
   "execution_count": null,
   "id": "143660bd",
   "metadata": {},
   "outputs": [],
   "source": [
    "#Find the error rate on the test set\n",
    "mse = mean_absolute_error(y_test, model.predict(X_test))\n",
    "print(mse)"
   ]
  },
  {
   "cell_type": "code",
   "execution_count": null,
   "id": "cf89da2a",
   "metadata": {},
   "outputs": [],
   "source": [
    "#These are the feature labels from our data set\n",
    "import numpy as np\n",
    "feature_labels = np.array(['year_built', 'stories', 'num_bedrooms', 'full_bathrooms', 'half_bathrooms', 'livable_sqft', 'total_sqft', 'garage_sqft', 'carport_sqft', 'has_fireplace', 'has_pool', 'has_central_heating', 'has_central_cooling', 'garage_type_attached', 'garage_type_detached', 'garage_type_none', 'city_Amystad', 'city_Brownport', 'city_Chadstad', 'city_Clarkberg', 'city_Coletown', 'city_Davidfort', 'city_Davidtown', 'city_East Amychester', 'city_East Janiceville', 'city_East Justin', 'city_East Lucas', 'city_Fosterberg', 'city_Hallfort', 'city_Jeffreyhaven', 'city_Jenniferberg', 'city_Joshuafurt', 'city_Julieberg', 'city_Justinport', 'city_Lake Carolyn', 'city_Lake Christinaport', 'city_Lake Dariusborough', 'city_Lake Jack', 'city_Lake Jennifer', 'city_Leahview', 'city_Lewishaven', 'city_Martinezfort', 'city_Morrisport', 'city_New Michele', 'city_New Robinton', 'city_North Erinville', 'city_Port Adamtown', 'city_Port Andrealand', 'city_Port Daniel', 'city_Port Jonathanborough', 'city_Richardport', 'city_Rickytown', 'city_Scottberg', 'city_South Anthony', 'city_South Stevenfurt', 'city_Toddshire', 'city_Wendybury', 'city_West Ann', 'city_West Brittanyview', 'city_West Gerald', 'city_West Gregoryview', 'city_West Lydia', 'city_West Terrence'])"
   ]
  },
  {
   "cell_type": "code",
   "execution_count": null,
   "id": "8eed2283",
   "metadata": {},
   "outputs": [],
   "source": [
    "#Load the trained model created with train model\n",
    "model = joblib.load('house_classifier.pkl')"
   ]
  },
  {
   "cell_type": "code",
   "execution_count": null,
   "id": "5d639ac9",
   "metadata": {},
   "outputs": [],
   "source": [
    "#Create a numpy array based on the model's feature\n",
    "importance = model.feature_importances_"
   ]
  },
  {
   "cell_type": "code",
   "execution_count": null,
   "id": "a167b038",
   "metadata": {},
   "outputs": [],
   "source": [
    "# Sort the feature lables based on the feature importance rankings from the model\n",
    "feature_indexes_by_importance = importance.argsort()"
   ]
  },
  {
   "cell_type": "code",
   "execution_count": 122,
   "id": "d2ff31e0",
   "metadata": {},
   "outputs": [
    {
     "name": "stdout",
     "output_type": "stream",
     "text": [
      "city_Lake Jack - 0.00%\n",
      "city_Port Adamtown - 0.00%\n",
      "city_Port Daniel - 0.00%\n",
      "city_Port Jonathanborough - 0.00%\n",
      "city_Fosterberg - 0.00%\n",
      "city_New Michele - 0.00%\n",
      "city_Wendybury - 0.01%\n"
     ]
    },
    {
     "ename": "IndexError",
     "evalue": "index 63 is out of bounds for axis 0 with size 63",
     "output_type": "error",
     "traceback": [
      "\u001b[0;31m---------------------------------------------------------------------------\u001b[0m",
      "\u001b[0;31mIndexError\u001b[0m                                Traceback (most recent call last)",
      "Cell \u001b[0;32mIn[122], line 3\u001b[0m\n\u001b[1;32m      1\u001b[0m \u001b[38;5;66;03m# Print each feature label, from most important to least important (reverse order)\u001b[39;00m\n\u001b[1;32m      2\u001b[0m \u001b[38;5;28;01mfor\u001b[39;00m index \u001b[38;5;129;01min\u001b[39;00m feature_indexes_by_importance:\n\u001b[0;32m----> 3\u001b[0m     \u001b[38;5;28mprint\u001b[39m(\u001b[38;5;124m\"\u001b[39m\u001b[38;5;132;01m{}\u001b[39;00m\u001b[38;5;124m - \u001b[39m\u001b[38;5;132;01m{:.2f}\u001b[39;00m\u001b[38;5;124m%\u001b[39m\u001b[38;5;124m\"\u001b[39m\u001b[38;5;241m.\u001b[39mformat(feature_labels[index], (importance[index] \u001b[38;5;241m*\u001b[39m \u001b[38;5;241m100.0\u001b[39m)))\n",
      "\u001b[0;31mIndexError\u001b[0m: index 63 is out of bounds for axis 0 with size 63"
     ]
    }
   ],
   "source": [
    "# Print each feature label, from most important to least important (reverse order)\n",
    "for index in feature_indexes_by_importance:\n",
    "    print(\"{} - {:.2f}%\".format(feature_labels[index], (importance[index] * 100.0)))"
   ]
  }
 ],
 "metadata": {
  "kernelspec": {
   "display_name": "Python 3 (ipykernel)",
   "language": "python",
   "name": "python3"
  },
  "language_info": {
   "codemirror_mode": {
    "name": "ipython",
    "version": 3
   },
   "file_extension": ".py",
   "mimetype": "text/x-python",
   "name": "python",
   "nbconvert_exporter": "python",
   "pygments_lexer": "ipython3",
   "version": "3.11.5"
  }
 },
 "nbformat": 4,
 "nbformat_minor": 5
}
